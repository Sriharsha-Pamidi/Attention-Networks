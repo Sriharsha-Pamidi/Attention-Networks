{
  "nbformat": 4,
  "nbformat_minor": 0,
  "metadata": {
    "colab": {
      "provenance": []
    },
    "kernelspec": {
      "name": "python3",
      "display_name": "Python 3"
    },
    "accelerator": "GPU",
    "widgets": {
      "application/vnd.jupyter.widget-state+json": {
        "6243caea6be34e34b9608969397b897c": {
          "model_module": "@jupyter-widgets/controls",
          "model_name": "HBoxModel",
          "model_module_version": "1.5.0",
          "state": {
            "_dom_classes": [],
            "_model_module": "@jupyter-widgets/controls",
            "_model_module_version": "1.5.0",
            "_model_name": "HBoxModel",
            "_view_count": null,
            "_view_module": "@jupyter-widgets/controls",
            "_view_module_version": "1.5.0",
            "_view_name": "HBoxView",
            "box_style": "",
            "children": [
              "IPY_MODEL_0ec56f64f67a42f198cd7fdc2aa39e85",
              "IPY_MODEL_79915847e7d24be08b2d773d3a637663",
              "IPY_MODEL_d6a4e5c704ed4be59b96e8bd918c4044"
            ],
            "layout": "IPY_MODEL_970839d30228480baaba6e530ec795b0"
          }
        },
        "0ec56f64f67a42f198cd7fdc2aa39e85": {
          "model_module": "@jupyter-widgets/controls",
          "model_name": "HTMLModel",
          "model_module_version": "1.5.0",
          "state": {
            "_dom_classes": [],
            "_model_module": "@jupyter-widgets/controls",
            "_model_module_version": "1.5.0",
            "_model_name": "HTMLModel",
            "_view_count": null,
            "_view_module": "@jupyter-widgets/controls",
            "_view_module_version": "1.5.0",
            "_view_name": "HTMLView",
            "description": "",
            "description_tooltip": null,
            "layout": "IPY_MODEL_5cb5d433986749908446fbb471b4c3d9",
            "placeholder": "​",
            "style": "IPY_MODEL_cdc7494d81474b1384a2ae987e7bfdb1",
            "value": "Downloading: 100%"
          }
        },
        "79915847e7d24be08b2d773d3a637663": {
          "model_module": "@jupyter-widgets/controls",
          "model_name": "FloatProgressModel",
          "model_module_version": "1.5.0",
          "state": {
            "_dom_classes": [],
            "_model_module": "@jupyter-widgets/controls",
            "_model_module_version": "1.5.0",
            "_model_name": "FloatProgressModel",
            "_view_count": null,
            "_view_module": "@jupyter-widgets/controls",
            "_view_module_version": "1.5.0",
            "_view_name": "ProgressView",
            "bar_style": "success",
            "description": "",
            "description_tooltip": null,
            "layout": "IPY_MODEL_9d3df6eecb4d4531aca85f36ca1fc100",
            "max": 231508,
            "min": 0,
            "orientation": "horizontal",
            "style": "IPY_MODEL_25bd9cf6cf1340aeaccf7d29ac6fe4fd",
            "value": 231508
          }
        },
        "d6a4e5c704ed4be59b96e8bd918c4044": {
          "model_module": "@jupyter-widgets/controls",
          "model_name": "HTMLModel",
          "model_module_version": "1.5.0",
          "state": {
            "_dom_classes": [],
            "_model_module": "@jupyter-widgets/controls",
            "_model_module_version": "1.5.0",
            "_model_name": "HTMLModel",
            "_view_count": null,
            "_view_module": "@jupyter-widgets/controls",
            "_view_module_version": "1.5.0",
            "_view_name": "HTMLView",
            "description": "",
            "description_tooltip": null,
            "layout": "IPY_MODEL_06ef43f5c542454fa4ca98cec13fb92b",
            "placeholder": "​",
            "style": "IPY_MODEL_eed025f407b042c09eac12be6c5dbfec",
            "value": " 226k/226k [00:00&lt;00:00, 283kB/s]"
          }
        },
        "970839d30228480baaba6e530ec795b0": {
          "model_module": "@jupyter-widgets/base",
          "model_name": "LayoutModel",
          "model_module_version": "1.2.0",
          "state": {
            "_model_module": "@jupyter-widgets/base",
            "_model_module_version": "1.2.0",
            "_model_name": "LayoutModel",
            "_view_count": null,
            "_view_module": "@jupyter-widgets/base",
            "_view_module_version": "1.2.0",
            "_view_name": "LayoutView",
            "align_content": null,
            "align_items": null,
            "align_self": null,
            "border": null,
            "bottom": null,
            "display": null,
            "flex": null,
            "flex_flow": null,
            "grid_area": null,
            "grid_auto_columns": null,
            "grid_auto_flow": null,
            "grid_auto_rows": null,
            "grid_column": null,
            "grid_gap": null,
            "grid_row": null,
            "grid_template_areas": null,
            "grid_template_columns": null,
            "grid_template_rows": null,
            "height": null,
            "justify_content": null,
            "justify_items": null,
            "left": null,
            "margin": null,
            "max_height": null,
            "max_width": null,
            "min_height": null,
            "min_width": null,
            "object_fit": null,
            "object_position": null,
            "order": null,
            "overflow": null,
            "overflow_x": null,
            "overflow_y": null,
            "padding": null,
            "right": null,
            "top": null,
            "visibility": null,
            "width": null
          }
        },
        "5cb5d433986749908446fbb471b4c3d9": {
          "model_module": "@jupyter-widgets/base",
          "model_name": "LayoutModel",
          "model_module_version": "1.2.0",
          "state": {
            "_model_module": "@jupyter-widgets/base",
            "_model_module_version": "1.2.0",
            "_model_name": "LayoutModel",
            "_view_count": null,
            "_view_module": "@jupyter-widgets/base",
            "_view_module_version": "1.2.0",
            "_view_name": "LayoutView",
            "align_content": null,
            "align_items": null,
            "align_self": null,
            "border": null,
            "bottom": null,
            "display": null,
            "flex": null,
            "flex_flow": null,
            "grid_area": null,
            "grid_auto_columns": null,
            "grid_auto_flow": null,
            "grid_auto_rows": null,
            "grid_column": null,
            "grid_gap": null,
            "grid_row": null,
            "grid_template_areas": null,
            "grid_template_columns": null,
            "grid_template_rows": null,
            "height": null,
            "justify_content": null,
            "justify_items": null,
            "left": null,
            "margin": null,
            "max_height": null,
            "max_width": null,
            "min_height": null,
            "min_width": null,
            "object_fit": null,
            "object_position": null,
            "order": null,
            "overflow": null,
            "overflow_x": null,
            "overflow_y": null,
            "padding": null,
            "right": null,
            "top": null,
            "visibility": null,
            "width": null
          }
        },
        "cdc7494d81474b1384a2ae987e7bfdb1": {
          "model_module": "@jupyter-widgets/controls",
          "model_name": "DescriptionStyleModel",
          "model_module_version": "1.5.0",
          "state": {
            "_model_module": "@jupyter-widgets/controls",
            "_model_module_version": "1.5.0",
            "_model_name": "DescriptionStyleModel",
            "_view_count": null,
            "_view_module": "@jupyter-widgets/base",
            "_view_module_version": "1.2.0",
            "_view_name": "StyleView",
            "description_width": ""
          }
        },
        "9d3df6eecb4d4531aca85f36ca1fc100": {
          "model_module": "@jupyter-widgets/base",
          "model_name": "LayoutModel",
          "model_module_version": "1.2.0",
          "state": {
            "_model_module": "@jupyter-widgets/base",
            "_model_module_version": "1.2.0",
            "_model_name": "LayoutModel",
            "_view_count": null,
            "_view_module": "@jupyter-widgets/base",
            "_view_module_version": "1.2.0",
            "_view_name": "LayoutView",
            "align_content": null,
            "align_items": null,
            "align_self": null,
            "border": null,
            "bottom": null,
            "display": null,
            "flex": null,
            "flex_flow": null,
            "grid_area": null,
            "grid_auto_columns": null,
            "grid_auto_flow": null,
            "grid_auto_rows": null,
            "grid_column": null,
            "grid_gap": null,
            "grid_row": null,
            "grid_template_areas": null,
            "grid_template_columns": null,
            "grid_template_rows": null,
            "height": null,
            "justify_content": null,
            "justify_items": null,
            "left": null,
            "margin": null,
            "max_height": null,
            "max_width": null,
            "min_height": null,
            "min_width": null,
            "object_fit": null,
            "object_position": null,
            "order": null,
            "overflow": null,
            "overflow_x": null,
            "overflow_y": null,
            "padding": null,
            "right": null,
            "top": null,
            "visibility": null,
            "width": null
          }
        },
        "25bd9cf6cf1340aeaccf7d29ac6fe4fd": {
          "model_module": "@jupyter-widgets/controls",
          "model_name": "ProgressStyleModel",
          "model_module_version": "1.5.0",
          "state": {
            "_model_module": "@jupyter-widgets/controls",
            "_model_module_version": "1.5.0",
            "_model_name": "ProgressStyleModel",
            "_view_count": null,
            "_view_module": "@jupyter-widgets/base",
            "_view_module_version": "1.2.0",
            "_view_name": "StyleView",
            "bar_color": null,
            "description_width": ""
          }
        },
        "06ef43f5c542454fa4ca98cec13fb92b": {
          "model_module": "@jupyter-widgets/base",
          "model_name": "LayoutModel",
          "model_module_version": "1.2.0",
          "state": {
            "_model_module": "@jupyter-widgets/base",
            "_model_module_version": "1.2.0",
            "_model_name": "LayoutModel",
            "_view_count": null,
            "_view_module": "@jupyter-widgets/base",
            "_view_module_version": "1.2.0",
            "_view_name": "LayoutView",
            "align_content": null,
            "align_items": null,
            "align_self": null,
            "border": null,
            "bottom": null,
            "display": null,
            "flex": null,
            "flex_flow": null,
            "grid_area": null,
            "grid_auto_columns": null,
            "grid_auto_flow": null,
            "grid_auto_rows": null,
            "grid_column": null,
            "grid_gap": null,
            "grid_row": null,
            "grid_template_areas": null,
            "grid_template_columns": null,
            "grid_template_rows": null,
            "height": null,
            "justify_content": null,
            "justify_items": null,
            "left": null,
            "margin": null,
            "max_height": null,
            "max_width": null,
            "min_height": null,
            "min_width": null,
            "object_fit": null,
            "object_position": null,
            "order": null,
            "overflow": null,
            "overflow_x": null,
            "overflow_y": null,
            "padding": null,
            "right": null,
            "top": null,
            "visibility": null,
            "width": null
          }
        },
        "eed025f407b042c09eac12be6c5dbfec": {
          "model_module": "@jupyter-widgets/controls",
          "model_name": "DescriptionStyleModel",
          "model_module_version": "1.5.0",
          "state": {
            "_model_module": "@jupyter-widgets/controls",
            "_model_module_version": "1.5.0",
            "_model_name": "DescriptionStyleModel",
            "_view_count": null,
            "_view_module": "@jupyter-widgets/base",
            "_view_module_version": "1.2.0",
            "_view_name": "StyleView",
            "description_width": ""
          }
        },
        "55b273ad60c4419cbb822fa67b336948": {
          "model_module": "@jupyter-widgets/controls",
          "model_name": "HBoxModel",
          "model_module_version": "1.5.0",
          "state": {
            "_dom_classes": [],
            "_model_module": "@jupyter-widgets/controls",
            "_model_module_version": "1.5.0",
            "_model_name": "HBoxModel",
            "_view_count": null,
            "_view_module": "@jupyter-widgets/controls",
            "_view_module_version": "1.5.0",
            "_view_name": "HBoxView",
            "box_style": "",
            "children": [
              "IPY_MODEL_7571738edcf3413abaaa7927dbd43068",
              "IPY_MODEL_d7c0d625b53b470fac855d7e7fa56277",
              "IPY_MODEL_a1fac4f9afe84258bd7ad5a358b84a9c"
            ],
            "layout": "IPY_MODEL_39f2a4aba48242c9877705800394e9e3"
          }
        },
        "7571738edcf3413abaaa7927dbd43068": {
          "model_module": "@jupyter-widgets/controls",
          "model_name": "HTMLModel",
          "model_module_version": "1.5.0",
          "state": {
            "_dom_classes": [],
            "_model_module": "@jupyter-widgets/controls",
            "_model_module_version": "1.5.0",
            "_model_name": "HTMLModel",
            "_view_count": null,
            "_view_module": "@jupyter-widgets/controls",
            "_view_module_version": "1.5.0",
            "_view_name": "HTMLView",
            "description": "",
            "description_tooltip": null,
            "layout": "IPY_MODEL_a1eb50c3cf3f4c42b18dc65f2aa3e136",
            "placeholder": "​",
            "style": "IPY_MODEL_2f48acb831a041848d808a530d5ebf50",
            "value": "Downloading: 100%"
          }
        },
        "d7c0d625b53b470fac855d7e7fa56277": {
          "model_module": "@jupyter-widgets/controls",
          "model_name": "FloatProgressModel",
          "model_module_version": "1.5.0",
          "state": {
            "_dom_classes": [],
            "_model_module": "@jupyter-widgets/controls",
            "_model_module_version": "1.5.0",
            "_model_name": "FloatProgressModel",
            "_view_count": null,
            "_view_module": "@jupyter-widgets/controls",
            "_view_module_version": "1.5.0",
            "_view_name": "ProgressView",
            "bar_style": "success",
            "description": "",
            "description_tooltip": null,
            "layout": "IPY_MODEL_37c9f5e2648f4461ba5807b25d25fc94",
            "max": 28,
            "min": 0,
            "orientation": "horizontal",
            "style": "IPY_MODEL_b2f320a314e44acaa8917aa680a6980c",
            "value": 28
          }
        },
        "a1fac4f9afe84258bd7ad5a358b84a9c": {
          "model_module": "@jupyter-widgets/controls",
          "model_name": "HTMLModel",
          "model_module_version": "1.5.0",
          "state": {
            "_dom_classes": [],
            "_model_module": "@jupyter-widgets/controls",
            "_model_module_version": "1.5.0",
            "_model_name": "HTMLModel",
            "_view_count": null,
            "_view_module": "@jupyter-widgets/controls",
            "_view_module_version": "1.5.0",
            "_view_name": "HTMLView",
            "description": "",
            "description_tooltip": null,
            "layout": "IPY_MODEL_7b28407b6052477a96344f784faae4d3",
            "placeholder": "​",
            "style": "IPY_MODEL_d38e0015c4414e099c25feb28d84f7a2",
            "value": " 28.0/28.0 [00:00&lt;00:00, 879B/s]"
          }
        },
        "39f2a4aba48242c9877705800394e9e3": {
          "model_module": "@jupyter-widgets/base",
          "model_name": "LayoutModel",
          "model_module_version": "1.2.0",
          "state": {
            "_model_module": "@jupyter-widgets/base",
            "_model_module_version": "1.2.0",
            "_model_name": "LayoutModel",
            "_view_count": null,
            "_view_module": "@jupyter-widgets/base",
            "_view_module_version": "1.2.0",
            "_view_name": "LayoutView",
            "align_content": null,
            "align_items": null,
            "align_self": null,
            "border": null,
            "bottom": null,
            "display": null,
            "flex": null,
            "flex_flow": null,
            "grid_area": null,
            "grid_auto_columns": null,
            "grid_auto_flow": null,
            "grid_auto_rows": null,
            "grid_column": null,
            "grid_gap": null,
            "grid_row": null,
            "grid_template_areas": null,
            "grid_template_columns": null,
            "grid_template_rows": null,
            "height": null,
            "justify_content": null,
            "justify_items": null,
            "left": null,
            "margin": null,
            "max_height": null,
            "max_width": null,
            "min_height": null,
            "min_width": null,
            "object_fit": null,
            "object_position": null,
            "order": null,
            "overflow": null,
            "overflow_x": null,
            "overflow_y": null,
            "padding": null,
            "right": null,
            "top": null,
            "visibility": null,
            "width": null
          }
        },
        "a1eb50c3cf3f4c42b18dc65f2aa3e136": {
          "model_module": "@jupyter-widgets/base",
          "model_name": "LayoutModel",
          "model_module_version": "1.2.0",
          "state": {
            "_model_module": "@jupyter-widgets/base",
            "_model_module_version": "1.2.0",
            "_model_name": "LayoutModel",
            "_view_count": null,
            "_view_module": "@jupyter-widgets/base",
            "_view_module_version": "1.2.0",
            "_view_name": "LayoutView",
            "align_content": null,
            "align_items": null,
            "align_self": null,
            "border": null,
            "bottom": null,
            "display": null,
            "flex": null,
            "flex_flow": null,
            "grid_area": null,
            "grid_auto_columns": null,
            "grid_auto_flow": null,
            "grid_auto_rows": null,
            "grid_column": null,
            "grid_gap": null,
            "grid_row": null,
            "grid_template_areas": null,
            "grid_template_columns": null,
            "grid_template_rows": null,
            "height": null,
            "justify_content": null,
            "justify_items": null,
            "left": null,
            "margin": null,
            "max_height": null,
            "max_width": null,
            "min_height": null,
            "min_width": null,
            "object_fit": null,
            "object_position": null,
            "order": null,
            "overflow": null,
            "overflow_x": null,
            "overflow_y": null,
            "padding": null,
            "right": null,
            "top": null,
            "visibility": null,
            "width": null
          }
        },
        "2f48acb831a041848d808a530d5ebf50": {
          "model_module": "@jupyter-widgets/controls",
          "model_name": "DescriptionStyleModel",
          "model_module_version": "1.5.0",
          "state": {
            "_model_module": "@jupyter-widgets/controls",
            "_model_module_version": "1.5.0",
            "_model_name": "DescriptionStyleModel",
            "_view_count": null,
            "_view_module": "@jupyter-widgets/base",
            "_view_module_version": "1.2.0",
            "_view_name": "StyleView",
            "description_width": ""
          }
        },
        "37c9f5e2648f4461ba5807b25d25fc94": {
          "model_module": "@jupyter-widgets/base",
          "model_name": "LayoutModel",
          "model_module_version": "1.2.0",
          "state": {
            "_model_module": "@jupyter-widgets/base",
            "_model_module_version": "1.2.0",
            "_model_name": "LayoutModel",
            "_view_count": null,
            "_view_module": "@jupyter-widgets/base",
            "_view_module_version": "1.2.0",
            "_view_name": "LayoutView",
            "align_content": null,
            "align_items": null,
            "align_self": null,
            "border": null,
            "bottom": null,
            "display": null,
            "flex": null,
            "flex_flow": null,
            "grid_area": null,
            "grid_auto_columns": null,
            "grid_auto_flow": null,
            "grid_auto_rows": null,
            "grid_column": null,
            "grid_gap": null,
            "grid_row": null,
            "grid_template_areas": null,
            "grid_template_columns": null,
            "grid_template_rows": null,
            "height": null,
            "justify_content": null,
            "justify_items": null,
            "left": null,
            "margin": null,
            "max_height": null,
            "max_width": null,
            "min_height": null,
            "min_width": null,
            "object_fit": null,
            "object_position": null,
            "order": null,
            "overflow": null,
            "overflow_x": null,
            "overflow_y": null,
            "padding": null,
            "right": null,
            "top": null,
            "visibility": null,
            "width": null
          }
        },
        "b2f320a314e44acaa8917aa680a6980c": {
          "model_module": "@jupyter-widgets/controls",
          "model_name": "ProgressStyleModel",
          "model_module_version": "1.5.0",
          "state": {
            "_model_module": "@jupyter-widgets/controls",
            "_model_module_version": "1.5.0",
            "_model_name": "ProgressStyleModel",
            "_view_count": null,
            "_view_module": "@jupyter-widgets/base",
            "_view_module_version": "1.2.0",
            "_view_name": "StyleView",
            "bar_color": null,
            "description_width": ""
          }
        },
        "7b28407b6052477a96344f784faae4d3": {
          "model_module": "@jupyter-widgets/base",
          "model_name": "LayoutModel",
          "model_module_version": "1.2.0",
          "state": {
            "_model_module": "@jupyter-widgets/base",
            "_model_module_version": "1.2.0",
            "_model_name": "LayoutModel",
            "_view_count": null,
            "_view_module": "@jupyter-widgets/base",
            "_view_module_version": "1.2.0",
            "_view_name": "LayoutView",
            "align_content": null,
            "align_items": null,
            "align_self": null,
            "border": null,
            "bottom": null,
            "display": null,
            "flex": null,
            "flex_flow": null,
            "grid_area": null,
            "grid_auto_columns": null,
            "grid_auto_flow": null,
            "grid_auto_rows": null,
            "grid_column": null,
            "grid_gap": null,
            "grid_row": null,
            "grid_template_areas": null,
            "grid_template_columns": null,
            "grid_template_rows": null,
            "height": null,
            "justify_content": null,
            "justify_items": null,
            "left": null,
            "margin": null,
            "max_height": null,
            "max_width": null,
            "min_height": null,
            "min_width": null,
            "object_fit": null,
            "object_position": null,
            "order": null,
            "overflow": null,
            "overflow_x": null,
            "overflow_y": null,
            "padding": null,
            "right": null,
            "top": null,
            "visibility": null,
            "width": null
          }
        },
        "d38e0015c4414e099c25feb28d84f7a2": {
          "model_module": "@jupyter-widgets/controls",
          "model_name": "DescriptionStyleModel",
          "model_module_version": "1.5.0",
          "state": {
            "_model_module": "@jupyter-widgets/controls",
            "_model_module_version": "1.5.0",
            "_model_name": "DescriptionStyleModel",
            "_view_count": null,
            "_view_module": "@jupyter-widgets/base",
            "_view_module_version": "1.2.0",
            "_view_name": "StyleView",
            "description_width": ""
          }
        },
        "d90d3e1fd9e2448589116e4422f7e1c0": {
          "model_module": "@jupyter-widgets/controls",
          "model_name": "HBoxModel",
          "model_module_version": "1.5.0",
          "state": {
            "_dom_classes": [],
            "_model_module": "@jupyter-widgets/controls",
            "_model_module_version": "1.5.0",
            "_model_name": "HBoxModel",
            "_view_count": null,
            "_view_module": "@jupyter-widgets/controls",
            "_view_module_version": "1.5.0",
            "_view_name": "HBoxView",
            "box_style": "",
            "children": [
              "IPY_MODEL_acf8e06e6bc34313a4fddeb3e40ef246",
              "IPY_MODEL_b613a79e59ce497c8c39792954495845",
              "IPY_MODEL_c65aaca907ca4b89b0d909a62e179a78"
            ],
            "layout": "IPY_MODEL_4499ef0cb0e646ebbc78d81ba0af3456"
          }
        },
        "acf8e06e6bc34313a4fddeb3e40ef246": {
          "model_module": "@jupyter-widgets/controls",
          "model_name": "HTMLModel",
          "model_module_version": "1.5.0",
          "state": {
            "_dom_classes": [],
            "_model_module": "@jupyter-widgets/controls",
            "_model_module_version": "1.5.0",
            "_model_name": "HTMLModel",
            "_view_count": null,
            "_view_module": "@jupyter-widgets/controls",
            "_view_module_version": "1.5.0",
            "_view_name": "HTMLView",
            "description": "",
            "description_tooltip": null,
            "layout": "IPY_MODEL_d2c2685f19934fd2af21d2022230590e",
            "placeholder": "​",
            "style": "IPY_MODEL_457ca11f0d5e4ceeb982347991415fea",
            "value": "Downloading: 100%"
          }
        },
        "b613a79e59ce497c8c39792954495845": {
          "model_module": "@jupyter-widgets/controls",
          "model_name": "FloatProgressModel",
          "model_module_version": "1.5.0",
          "state": {
            "_dom_classes": [],
            "_model_module": "@jupyter-widgets/controls",
            "_model_module_version": "1.5.0",
            "_model_name": "FloatProgressModel",
            "_view_count": null,
            "_view_module": "@jupyter-widgets/controls",
            "_view_module_version": "1.5.0",
            "_view_name": "ProgressView",
            "bar_style": "success",
            "description": "",
            "description_tooltip": null,
            "layout": "IPY_MODEL_b032f2737bec4dbe8c757633b23360d1",
            "max": 570,
            "min": 0,
            "orientation": "horizontal",
            "style": "IPY_MODEL_830e73effecc4de8bb32312da657d667",
            "value": 570
          }
        },
        "c65aaca907ca4b89b0d909a62e179a78": {
          "model_module": "@jupyter-widgets/controls",
          "model_name": "HTMLModel",
          "model_module_version": "1.5.0",
          "state": {
            "_dom_classes": [],
            "_model_module": "@jupyter-widgets/controls",
            "_model_module_version": "1.5.0",
            "_model_name": "HTMLModel",
            "_view_count": null,
            "_view_module": "@jupyter-widgets/controls",
            "_view_module_version": "1.5.0",
            "_view_name": "HTMLView",
            "description": "",
            "description_tooltip": null,
            "layout": "IPY_MODEL_16f9aa322524457598ec5413e9a8e1f7",
            "placeholder": "​",
            "style": "IPY_MODEL_2324d085cacc44d2a75ea8bc00fbd0c9",
            "value": " 570/570 [00:00&lt;00:00, 7.99kB/s]"
          }
        },
        "4499ef0cb0e646ebbc78d81ba0af3456": {
          "model_module": "@jupyter-widgets/base",
          "model_name": "LayoutModel",
          "model_module_version": "1.2.0",
          "state": {
            "_model_module": "@jupyter-widgets/base",
            "_model_module_version": "1.2.0",
            "_model_name": "LayoutModel",
            "_view_count": null,
            "_view_module": "@jupyter-widgets/base",
            "_view_module_version": "1.2.0",
            "_view_name": "LayoutView",
            "align_content": null,
            "align_items": null,
            "align_self": null,
            "border": null,
            "bottom": null,
            "display": null,
            "flex": null,
            "flex_flow": null,
            "grid_area": null,
            "grid_auto_columns": null,
            "grid_auto_flow": null,
            "grid_auto_rows": null,
            "grid_column": null,
            "grid_gap": null,
            "grid_row": null,
            "grid_template_areas": null,
            "grid_template_columns": null,
            "grid_template_rows": null,
            "height": null,
            "justify_content": null,
            "justify_items": null,
            "left": null,
            "margin": null,
            "max_height": null,
            "max_width": null,
            "min_height": null,
            "min_width": null,
            "object_fit": null,
            "object_position": null,
            "order": null,
            "overflow": null,
            "overflow_x": null,
            "overflow_y": null,
            "padding": null,
            "right": null,
            "top": null,
            "visibility": null,
            "width": null
          }
        },
        "d2c2685f19934fd2af21d2022230590e": {
          "model_module": "@jupyter-widgets/base",
          "model_name": "LayoutModel",
          "model_module_version": "1.2.0",
          "state": {
            "_model_module": "@jupyter-widgets/base",
            "_model_module_version": "1.2.0",
            "_model_name": "LayoutModel",
            "_view_count": null,
            "_view_module": "@jupyter-widgets/base",
            "_view_module_version": "1.2.0",
            "_view_name": "LayoutView",
            "align_content": null,
            "align_items": null,
            "align_self": null,
            "border": null,
            "bottom": null,
            "display": null,
            "flex": null,
            "flex_flow": null,
            "grid_area": null,
            "grid_auto_columns": null,
            "grid_auto_flow": null,
            "grid_auto_rows": null,
            "grid_column": null,
            "grid_gap": null,
            "grid_row": null,
            "grid_template_areas": null,
            "grid_template_columns": null,
            "grid_template_rows": null,
            "height": null,
            "justify_content": null,
            "justify_items": null,
            "left": null,
            "margin": null,
            "max_height": null,
            "max_width": null,
            "min_height": null,
            "min_width": null,
            "object_fit": null,
            "object_position": null,
            "order": null,
            "overflow": null,
            "overflow_x": null,
            "overflow_y": null,
            "padding": null,
            "right": null,
            "top": null,
            "visibility": null,
            "width": null
          }
        },
        "457ca11f0d5e4ceeb982347991415fea": {
          "model_module": "@jupyter-widgets/controls",
          "model_name": "DescriptionStyleModel",
          "model_module_version": "1.5.0",
          "state": {
            "_model_module": "@jupyter-widgets/controls",
            "_model_module_version": "1.5.0",
            "_model_name": "DescriptionStyleModel",
            "_view_count": null,
            "_view_module": "@jupyter-widgets/base",
            "_view_module_version": "1.2.0",
            "_view_name": "StyleView",
            "description_width": ""
          }
        },
        "b032f2737bec4dbe8c757633b23360d1": {
          "model_module": "@jupyter-widgets/base",
          "model_name": "LayoutModel",
          "model_module_version": "1.2.0",
          "state": {
            "_model_module": "@jupyter-widgets/base",
            "_model_module_version": "1.2.0",
            "_model_name": "LayoutModel",
            "_view_count": null,
            "_view_module": "@jupyter-widgets/base",
            "_view_module_version": "1.2.0",
            "_view_name": "LayoutView",
            "align_content": null,
            "align_items": null,
            "align_self": null,
            "border": null,
            "bottom": null,
            "display": null,
            "flex": null,
            "flex_flow": null,
            "grid_area": null,
            "grid_auto_columns": null,
            "grid_auto_flow": null,
            "grid_auto_rows": null,
            "grid_column": null,
            "grid_gap": null,
            "grid_row": null,
            "grid_template_areas": null,
            "grid_template_columns": null,
            "grid_template_rows": null,
            "height": null,
            "justify_content": null,
            "justify_items": null,
            "left": null,
            "margin": null,
            "max_height": null,
            "max_width": null,
            "min_height": null,
            "min_width": null,
            "object_fit": null,
            "object_position": null,
            "order": null,
            "overflow": null,
            "overflow_x": null,
            "overflow_y": null,
            "padding": null,
            "right": null,
            "top": null,
            "visibility": null,
            "width": null
          }
        },
        "830e73effecc4de8bb32312da657d667": {
          "model_module": "@jupyter-widgets/controls",
          "model_name": "ProgressStyleModel",
          "model_module_version": "1.5.0",
          "state": {
            "_model_module": "@jupyter-widgets/controls",
            "_model_module_version": "1.5.0",
            "_model_name": "ProgressStyleModel",
            "_view_count": null,
            "_view_module": "@jupyter-widgets/base",
            "_view_module_version": "1.2.0",
            "_view_name": "StyleView",
            "bar_color": null,
            "description_width": ""
          }
        },
        "16f9aa322524457598ec5413e9a8e1f7": {
          "model_module": "@jupyter-widgets/base",
          "model_name": "LayoutModel",
          "model_module_version": "1.2.0",
          "state": {
            "_model_module": "@jupyter-widgets/base",
            "_model_module_version": "1.2.0",
            "_model_name": "LayoutModel",
            "_view_count": null,
            "_view_module": "@jupyter-widgets/base",
            "_view_module_version": "1.2.0",
            "_view_name": "LayoutView",
            "align_content": null,
            "align_items": null,
            "align_self": null,
            "border": null,
            "bottom": null,
            "display": null,
            "flex": null,
            "flex_flow": null,
            "grid_area": null,
            "grid_auto_columns": null,
            "grid_auto_flow": null,
            "grid_auto_rows": null,
            "grid_column": null,
            "grid_gap": null,
            "grid_row": null,
            "grid_template_areas": null,
            "grid_template_columns": null,
            "grid_template_rows": null,
            "height": null,
            "justify_content": null,
            "justify_items": null,
            "left": null,
            "margin": null,
            "max_height": null,
            "max_width": null,
            "min_height": null,
            "min_width": null,
            "object_fit": null,
            "object_position": null,
            "order": null,
            "overflow": null,
            "overflow_x": null,
            "overflow_y": null,
            "padding": null,
            "right": null,
            "top": null,
            "visibility": null,
            "width": null
          }
        },
        "2324d085cacc44d2a75ea8bc00fbd0c9": {
          "model_module": "@jupyter-widgets/controls",
          "model_name": "DescriptionStyleModel",
          "model_module_version": "1.5.0",
          "state": {
            "_model_module": "@jupyter-widgets/controls",
            "_model_module_version": "1.5.0",
            "_model_name": "DescriptionStyleModel",
            "_view_count": null,
            "_view_module": "@jupyter-widgets/base",
            "_view_module_version": "1.2.0",
            "_view_name": "StyleView",
            "description_width": ""
          }
        }
      }
    }
  },
  "cells": [
    {
      "cell_type": "markdown",
      "metadata": {
        "id": "gtIfsGAXcB42"
      },
      "source": [
        "#Introduction\n",
        "It is well known that models such as Multilayer perceptrons (MLP) and convolutonal neural nets do not perform well when it comes to learning from long text snippets (They fails to capture the long term dependencies betwen words). LSTM tries to mitigate the problem but falls short for longer texts.  In this notebook I train a custom transformer to aid the binary classification of long text. The dataset used is the IMDB movie reviews dataset. The dataset has an average of 323 words per review. The task is to classify each review as either holding a positive or negative sentiment.\n",
        "\n",
        "This version uses the pretrained bert embeddings (not the complete bert model)\n",
        "\n",
        "**Author: Hemed K**"
      ]
    },
    {
      "cell_type": "markdown",
      "source": [
        "# Initial setup"
      ],
      "metadata": {
        "id": "BamOgOPI5oBe"
      }
    },
    {
      "cell_type": "markdown",
      "source": [
        "Connect to google drive to access the data and change the working directory from \"/content\" to where this notebook and data resides in the googe drive."
      ],
      "metadata": {
        "id": "mxMWpTZy5x0Q"
      }
    },
    {
      "cell_type": "code",
      "source": [
        "from google.colab import drive\n",
        "drive.mount('/content/drive')\n",
        "%cd drive/MyDrive/Github/text-classification/"
      ],
      "metadata": {
        "id": "zkxuyA_k5w8k",
        "colab": {
          "base_uri": "https://localhost:8080/"
        },
        "outputId": "6a899b0e-c5b8-495b-95c7-258a381dab72"
      },
      "execution_count": null,
      "outputs": [
        {
          "output_type": "stream",
          "name": "stdout",
          "text": [
            "Drive already mounted at /content/drive; to attempt to forcibly remount, call drive.mount(\"/content/drive\", force_remount=True).\n",
            "/content/drive/MyDrive/Github/text-classification\n"
          ]
        }
      ]
    },
    {
      "cell_type": "markdown",
      "source": [
        "Install and importing necessary packages, pandas is for holding and visualizing the data while torch models are for actually implementing and training the transformer. Sklearn is for evaluation metrics."
      ],
      "metadata": {
        "id": "0yPTWE-hYT_I"
      }
    },
    {
      "cell_type": "code",
      "source": [
        "!pip  install transformers"
      ],
      "metadata": {
        "id": "TXlab0kRXrMu"
      },
      "execution_count": null,
      "outputs": []
    },
    {
      "cell_type": "code",
      "metadata": {
        "id": "i-M0z0q1RlvX"
      },
      "source": [
        "import pandas as pd\n",
        "\n",
        "from transformers import BertTokenizer, BertModel\n",
        "\n",
        "import torch, utils, os, sys, pickle,itertools, math\n",
        "from torch.utils.data import Dataset, DataLoader\n",
        "import torch.nn as nn\n",
        "import torch.optim as optim\n",
        "\n",
        "from sklearn.metrics import accuracy_score\n",
        "from sklearn.model_selection import train_test_split\n",
        "#from torch.nn import TransformerEncoder, TransformerEncoderLayer"
      ],
      "execution_count": null,
      "outputs": []
    },
    {
      "cell_type": "markdown",
      "source": [
        "Set seed to guarantee reproducibility."
      ],
      "metadata": {
        "id": "KN_60WxSM4Ha"
      }
    },
    {
      "cell_type": "code",
      "metadata": {
        "id": "n_yiBRNNgP5G",
        "colab": {
          "base_uri": "https://localhost:8080/"
        },
        "outputId": "068f00ab-b00e-411a-e8f1-885ebf305655"
      },
      "source": [
        "SEED = 1234\n",
        "torch.manual_seed(SEED)"
      ],
      "execution_count": null,
      "outputs": [
        {
          "output_type": "execute_result",
          "data": {
            "text/plain": [
              "<torch._C.Generator at 0x7f09aaab5cf0>"
            ]
          },
          "metadata": {},
          "execution_count": 4
        }
      ]
    },
    {
      "cell_type": "markdown",
      "metadata": {
        "id": "MkpkdRJTdl3d"
      },
      "source": [
        "# Read and visualize the data"
      ]
    },
    {
      "cell_type": "code",
      "source": [
        "def str_to_int(x: str) -> int:\n",
        "    '''\n",
        "    Takes in a string labels i.e. positive or negative\n",
        "    Converts it into a number 1 or 0 respectively\n",
        "    '''\n",
        "    if x==\"positive\": return 1\n",
        "    else: return 0"
      ],
      "metadata": {
        "id": "jhJmKX0s8bpg"
      },
      "execution_count": null,
      "outputs": []
    },
    {
      "cell_type": "code",
      "metadata": {
        "id": "86RyylpFdnih",
        "colab": {
          "base_uri": "https://localhost:8080/",
          "height": 224
        },
        "outputId": "7496c08a-6457-4123-9dac-b2531be94709"
      },
      "source": [
        "data_path ='data/IMDB-movie-reviews.csv'\n",
        "df = pd.read_csv(data_path, sep=',', delimiter=None, header='infer')\n",
        "df['label'] = df['sentiment'].apply(str_to_int)\n",
        "print (df.shape)\n",
        "df.head()"
      ],
      "execution_count": null,
      "outputs": [
        {
          "output_type": "stream",
          "name": "stdout",
          "text": [
            "(50000, 3)\n"
          ]
        },
        {
          "output_type": "execute_result",
          "data": {
            "text/plain": [
              "                                              review sentiment  label\n",
              "0  One of the other reviewers has mentioned that ...  positive      1\n",
              "1  A wonderful little production. <br /><br />The...  positive      1\n",
              "2  I thought this was a wonderful way to spend ti...  positive      1\n",
              "3  Basically there's a family where a little boy ...  negative      0\n",
              "4  Petter Mattei's \"Love in the Time of Money\" is...  positive      1"
            ],
            "text/html": [
              "\n",
              "  <div id=\"df-c923aac2-81c6-4030-ada9-8cbbbfd845fc\">\n",
              "    <div class=\"colab-df-container\">\n",
              "      <div>\n",
              "<style scoped>\n",
              "    .dataframe tbody tr th:only-of-type {\n",
              "        vertical-align: middle;\n",
              "    }\n",
              "\n",
              "    .dataframe tbody tr th {\n",
              "        vertical-align: top;\n",
              "    }\n",
              "\n",
              "    .dataframe thead th {\n",
              "        text-align: right;\n",
              "    }\n",
              "</style>\n",
              "<table border=\"1\" class=\"dataframe\">\n",
              "  <thead>\n",
              "    <tr style=\"text-align: right;\">\n",
              "      <th></th>\n",
              "      <th>review</th>\n",
              "      <th>sentiment</th>\n",
              "      <th>label</th>\n",
              "    </tr>\n",
              "  </thead>\n",
              "  <tbody>\n",
              "    <tr>\n",
              "      <th>0</th>\n",
              "      <td>One of the other reviewers has mentioned that ...</td>\n",
              "      <td>positive</td>\n",
              "      <td>1</td>\n",
              "    </tr>\n",
              "    <tr>\n",
              "      <th>1</th>\n",
              "      <td>A wonderful little production. &lt;br /&gt;&lt;br /&gt;The...</td>\n",
              "      <td>positive</td>\n",
              "      <td>1</td>\n",
              "    </tr>\n",
              "    <tr>\n",
              "      <th>2</th>\n",
              "      <td>I thought this was a wonderful way to spend ti...</td>\n",
              "      <td>positive</td>\n",
              "      <td>1</td>\n",
              "    </tr>\n",
              "    <tr>\n",
              "      <th>3</th>\n",
              "      <td>Basically there's a family where a little boy ...</td>\n",
              "      <td>negative</td>\n",
              "      <td>0</td>\n",
              "    </tr>\n",
              "    <tr>\n",
              "      <th>4</th>\n",
              "      <td>Petter Mattei's \"Love in the Time of Money\" is...</td>\n",
              "      <td>positive</td>\n",
              "      <td>1</td>\n",
              "    </tr>\n",
              "  </tbody>\n",
              "</table>\n",
              "</div>\n",
              "      <button class=\"colab-df-convert\" onclick=\"convertToInteractive('df-c923aac2-81c6-4030-ada9-8cbbbfd845fc')\"\n",
              "              title=\"Convert this dataframe to an interactive table.\"\n",
              "              style=\"display:none;\">\n",
              "        \n",
              "  <svg xmlns=\"http://www.w3.org/2000/svg\" height=\"24px\"viewBox=\"0 0 24 24\"\n",
              "       width=\"24px\">\n",
              "    <path d=\"M0 0h24v24H0V0z\" fill=\"none\"/>\n",
              "    <path d=\"M18.56 5.44l.94 2.06.94-2.06 2.06-.94-2.06-.94-.94-2.06-.94 2.06-2.06.94zm-11 1L8.5 8.5l.94-2.06 2.06-.94-2.06-.94L8.5 2.5l-.94 2.06-2.06.94zm10 10l.94 2.06.94-2.06 2.06-.94-2.06-.94-.94-2.06-.94 2.06-2.06.94z\"/><path d=\"M17.41 7.96l-1.37-1.37c-.4-.4-.92-.59-1.43-.59-.52 0-1.04.2-1.43.59L10.3 9.45l-7.72 7.72c-.78.78-.78 2.05 0 2.83L4 21.41c.39.39.9.59 1.41.59.51 0 1.02-.2 1.41-.59l7.78-7.78 2.81-2.81c.8-.78.8-2.07 0-2.86zM5.41 20L4 18.59l7.72-7.72 1.47 1.35L5.41 20z\"/>\n",
              "  </svg>\n",
              "      </button>\n",
              "      \n",
              "  <style>\n",
              "    .colab-df-container {\n",
              "      display:flex;\n",
              "      flex-wrap:wrap;\n",
              "      gap: 12px;\n",
              "    }\n",
              "\n",
              "    .colab-df-convert {\n",
              "      background-color: #E8F0FE;\n",
              "      border: none;\n",
              "      border-radius: 50%;\n",
              "      cursor: pointer;\n",
              "      display: none;\n",
              "      fill: #1967D2;\n",
              "      height: 32px;\n",
              "      padding: 0 0 0 0;\n",
              "      width: 32px;\n",
              "    }\n",
              "\n",
              "    .colab-df-convert:hover {\n",
              "      background-color: #E2EBFA;\n",
              "      box-shadow: 0px 1px 2px rgba(60, 64, 67, 0.3), 0px 1px 3px 1px rgba(60, 64, 67, 0.15);\n",
              "      fill: #174EA6;\n",
              "    }\n",
              "\n",
              "    [theme=dark] .colab-df-convert {\n",
              "      background-color: #3B4455;\n",
              "      fill: #D2E3FC;\n",
              "    }\n",
              "\n",
              "    [theme=dark] .colab-df-convert:hover {\n",
              "      background-color: #434B5C;\n",
              "      box-shadow: 0px 1px 3px 1px rgba(0, 0, 0, 0.15);\n",
              "      filter: drop-shadow(0px 1px 2px rgba(0, 0, 0, 0.3));\n",
              "      fill: #FFFFFF;\n",
              "    }\n",
              "  </style>\n",
              "\n",
              "      <script>\n",
              "        const buttonEl =\n",
              "          document.querySelector('#df-c923aac2-81c6-4030-ada9-8cbbbfd845fc button.colab-df-convert');\n",
              "        buttonEl.style.display =\n",
              "          google.colab.kernel.accessAllowed ? 'block' : 'none';\n",
              "\n",
              "        async function convertToInteractive(key) {\n",
              "          const element = document.querySelector('#df-c923aac2-81c6-4030-ada9-8cbbbfd845fc');\n",
              "          const dataTable =\n",
              "            await google.colab.kernel.invokeFunction('convertToInteractive',\n",
              "                                                     [key], {});\n",
              "          if (!dataTable) return;\n",
              "\n",
              "          const docLinkHtml = 'Like what you see? Visit the ' +\n",
              "            '<a target=\"_blank\" href=https://colab.research.google.com/notebooks/data_table.ipynb>data table notebook</a>'\n",
              "            + ' to learn more about interactive tables.';\n",
              "          element.innerHTML = '';\n",
              "          dataTable['output_type'] = 'display_data';\n",
              "          await google.colab.output.renderOutput(dataTable, element);\n",
              "          const docLink = document.createElement('div');\n",
              "          docLink.innerHTML = docLinkHtml;\n",
              "          element.appendChild(docLink);\n",
              "        }\n",
              "      </script>\n",
              "    </div>\n",
              "  </div>\n",
              "  "
            ]
          },
          "metadata": {},
          "execution_count": 6
        }
      ]
    },
    {
      "cell_type": "markdown",
      "source": [
        "Split the data into train, validation and test sets. "
      ],
      "metadata": {
        "id": "2tpb7c37mAwY"
      }
    },
    {
      "cell_type": "code",
      "source": [
        "def split_data(df):\n",
        "    '''\n",
        "    Takes in a dataframe and splits it into 3 sub dataframes\n",
        "    In the ration of 80%,10%,10% for training, validating and testing respectively. \n",
        "    '''\n",
        "    train_df, valid_df = train_test_split(df, test_size=0.2, shuffle=True)\n",
        "    valid_df, test_df = train_test_split(valid_df, test_size=0.5, shuffle=True)\n",
        "    return train_df, valid_df, test_df"
      ],
      "metadata": {
        "id": "mIdhlwnmlP9G"
      },
      "execution_count": null,
      "outputs": []
    },
    {
      "cell_type": "code",
      "source": [
        "train_df, valid_df, test_df = split_data(df)"
      ],
      "metadata": {
        "id": "I7RE4tIEnc9z"
      },
      "execution_count": null,
      "outputs": []
    },
    {
      "cell_type": "markdown",
      "source": [
        "# Preprocess the data"
      ],
      "metadata": {
        "id": "HFeN91-MooWS"
      }
    },
    {
      "cell_type": "markdown",
      "source": [
        "Define the tokenizer (preprocessor) and apply it to the dataset. The preprocessing activities done by the tokenizer includes converting each character to a lower case, tokenizing the documents, padding them if doc tokens are shorter than maximum model required length and truncates the docs if doc tokens are longer than the max model required length. Finaly converts the tokens into their ids as they appear in the model's embeddings listing."
      ],
      "metadata": {
        "id": "4dz91AZRdVQa"
      }
    },
    {
      "cell_type": "code",
      "source": [
        "tokenizer = BertTokenizer.from_pretrained(\"bert-base-uncased\")"
      ],
      "metadata": {
        "id": "Q4p2eMYifm8U",
        "colab": {
          "base_uri": "https://localhost:8080/",
          "height": 113,
          "referenced_widgets": [
            "6243caea6be34e34b9608969397b897c",
            "0ec56f64f67a42f198cd7fdc2aa39e85",
            "79915847e7d24be08b2d773d3a637663",
            "d6a4e5c704ed4be59b96e8bd918c4044",
            "970839d30228480baaba6e530ec795b0",
            "5cb5d433986749908446fbb471b4c3d9",
            "cdc7494d81474b1384a2ae987e7bfdb1",
            "9d3df6eecb4d4531aca85f36ca1fc100",
            "25bd9cf6cf1340aeaccf7d29ac6fe4fd",
            "06ef43f5c542454fa4ca98cec13fb92b",
            "eed025f407b042c09eac12be6c5dbfec",
            "55b273ad60c4419cbb822fa67b336948",
            "7571738edcf3413abaaa7927dbd43068",
            "d7c0d625b53b470fac855d7e7fa56277",
            "a1fac4f9afe84258bd7ad5a358b84a9c",
            "39f2a4aba48242c9877705800394e9e3",
            "a1eb50c3cf3f4c42b18dc65f2aa3e136",
            "2f48acb831a041848d808a530d5ebf50",
            "37c9f5e2648f4461ba5807b25d25fc94",
            "b2f320a314e44acaa8917aa680a6980c",
            "7b28407b6052477a96344f784faae4d3",
            "d38e0015c4414e099c25feb28d84f7a2",
            "d90d3e1fd9e2448589116e4422f7e1c0",
            "acf8e06e6bc34313a4fddeb3e40ef246",
            "b613a79e59ce497c8c39792954495845",
            "c65aaca907ca4b89b0d909a62e179a78",
            "4499ef0cb0e646ebbc78d81ba0af3456",
            "d2c2685f19934fd2af21d2022230590e",
            "457ca11f0d5e4ceeb982347991415fea",
            "b032f2737bec4dbe8c757633b23360d1",
            "830e73effecc4de8bb32312da657d667",
            "16f9aa322524457598ec5413e9a8e1f7",
            "2324d085cacc44d2a75ea8bc00fbd0c9"
          ]
        },
        "outputId": "85cbb196-2530-4132-8282-1d6e47768a12"
      },
      "execution_count": null,
      "outputs": [
        {
          "output_type": "display_data",
          "data": {
            "text/plain": [
              "Downloading:   0%|          | 0.00/226k [00:00<?, ?B/s]"
            ],
            "application/vnd.jupyter.widget-view+json": {
              "version_major": 2,
              "version_minor": 0,
              "model_id": "6243caea6be34e34b9608969397b897c"
            }
          },
          "metadata": {}
        },
        {
          "output_type": "display_data",
          "data": {
            "text/plain": [
              "Downloading:   0%|          | 0.00/28.0 [00:00<?, ?B/s]"
            ],
            "application/vnd.jupyter.widget-view+json": {
              "version_major": 2,
              "version_minor": 0,
              "model_id": "55b273ad60c4419cbb822fa67b336948"
            }
          },
          "metadata": {}
        },
        {
          "output_type": "display_data",
          "data": {
            "text/plain": [
              "Downloading:   0%|          | 0.00/570 [00:00<?, ?B/s]"
            ],
            "application/vnd.jupyter.widget-view+json": {
              "version_major": 2,
              "version_minor": 0,
              "model_id": "d90d3e1fd9e2448589116e4422f7e1c0"
            }
          },
          "metadata": {}
        }
      ]
    },
    {
      "cell_type": "code",
      "source": [
        "tokenized_train_data = tokenizer(train_df['review'].tolist(), padding=True, truncation=True)\n",
        "tokenized_valid_data = tokenizer(valid_df['review'].tolist(), padding=True, truncation=True)\n",
        "tokenized_test_data = tokenizer(test_df['review'].tolist(), padding=True, truncation=True)"
      ],
      "metadata": {
        "id": "JWBGFQI-g0zA"
      },
      "execution_count": null,
      "outputs": []
    },
    {
      "cell_type": "markdown",
      "source": [
        "Convert the dataset into a pytorch format."
      ],
      "metadata": {
        "id": "1r2tBmzzvwZC"
      }
    },
    {
      "cell_type": "code",
      "source": [
        "class ReviewsDataset(Dataset):\n",
        "      '''\n",
        "      A custom pytorch dataset\n",
        "      '''\n",
        "      def __init__(self, reviews, labels):\n",
        "          self.reviews = reviews\n",
        "          self.labels = labels\n",
        "    \n",
        "      def __len__(self):\n",
        "          return len(self.labels)\n",
        "          \n",
        "\n",
        "      def __getitem__(self, idx):\n",
        "          item = {key: torch.tensor(val[idx]) for key, val in self.reviews.items()}\n",
        "          item['label'] = torch.tensor(self.labels[idx])\n",
        "          return item\n",
        "          "
      ],
      "metadata": {
        "id": "hjHUHIpwwTJ_"
      },
      "execution_count": null,
      "outputs": []
    },
    {
      "cell_type": "code",
      "source": [
        "train_dataset = ReviewsDataset(tokenized_train_data, train_df['label'].tolist())\n",
        "valid_dataset = ReviewsDataset(tokenized_valid_data, valid_df['label'].tolist())\n",
        "test_dataset = ReviewsDataset(tokenized_test_data, test_df['label'].tolist())"
      ],
      "metadata": {
        "id": "0U50B1_NjISX"
      },
      "execution_count": null,
      "outputs": []
    },
    {
      "cell_type": "markdown",
      "source": [
        "Create a dataloader to facilitate iteration over batches of data."
      ],
      "metadata": {
        "id": "_7rQI3nsjW6q"
      }
    },
    {
      "cell_type": "code",
      "source": [
        "batch_size = 4\n",
        "n_workers = 0\n",
        "train_loader = DataLoader(train_dataset, batch_size=batch_size, num_workers=n_workers, shuffle=True)\n",
        "valid_loader = DataLoader(valid_dataset, batch_size=batch_size, num_workers=n_workers)\n",
        "test_loader = DataLoader(test_dataset, batch_size=batch_size, num_workers=n_workers)"
      ],
      "metadata": {
        "id": "RZgS19daiz4S"
      },
      "execution_count": null,
      "outputs": []
    },
    {
      "cell_type": "markdown",
      "source": [
        "#The model"
      ],
      "metadata": {
        "id": "iKLi3dRN6PgI"
      }
    },
    {
      "cell_type": "code",
      "metadata": {
        "id": "RiLDWtQXgU42"
      },
      "source": [
        "class PositionalEncoding(nn.Module):\n",
        "\n",
        "  def __init__(self, d_model, dropout=0.1, max_len=5000):\n",
        "      super(PositionalEncoding, self).__init__()\n",
        "      self.dropout = nn.Dropout(p=dropout)\n",
        "\n",
        "      pe = torch.zeros(max_len, d_model)\n",
        "      position = torch.arange(0, max_len, dtype=torch.float).unsqueeze(1)\n",
        "      div_term = torch.exp(torch.arange(0, d_model, 2).float() * (-math.log(10000.0) / d_model))\n",
        "      pe[:, 0::2] = torch.sin(position * div_term)\n",
        "      pe[:, 1::2] = torch.cos(position * div_term)\n",
        "      pe = pe.unsqueeze(0).transpose(0, 1)\n",
        "      self.register_buffer('pe', pe)\n",
        "\n",
        "  def forward(self, x):\n",
        "      x = x + self.pe[:x.size(0), :]\n",
        "      return self.dropout(x)"
      ],
      "execution_count": null,
      "outputs": []
    },
    {
      "cell_type": "code",
      "source": [
        "class TransformerModel(nn.Module):\n",
        "\n",
        "  def __init__(self, embed_dim, nhead, nlayers, dropout, attn_dim, out_dim, tokens_per_review): \n",
        "      super(TransformerModel, self).__init__()\n",
        "\n",
        "      self.embed_dim = embed_dim\n",
        "      self.embed_layer = BertModel.from_pretrained(\"bert-base-uncased\").embeddings.word_embeddings\n",
        "      self.embed_layer.weight.requires_grad = True\n",
        "\n",
        "      self.pos_encoder = PositionalEncoding(embed_dim, dropout)\n",
        "      self.transformer_encoder = nn.TransformerEncoder(nn.TransformerEncoderLayer(embed_dim, nhead, attn_dim, dropout), nlayers)\n",
        "      self.out_layer = nn.Linear(embed_dim*tokens_per_review, out_dim)\n",
        "\n",
        "     \n",
        "\n",
        "  def forward(self, inpt): \n",
        "      embeds = self.embed_layer(inpt) * math.sqrt(self.embed_dim)        \n",
        "      embeds = self.pos_encoder(embeds)\n",
        "      out = self.transformer_encoder(embeds)\n",
        "      out = out.view(out.shape[0], -1) \n",
        "      out = self.out_layer(out)\n",
        "      scores = nn.functional.log_softmax(out, dim=1) \n",
        "      return scores\n"
      ],
      "metadata": {
        "id": "ejVpIHF35Z7C"
      },
      "execution_count": null,
      "outputs": []
    },
    {
      "cell_type": "markdown",
      "source": [
        "# Training and validating"
      ],
      "metadata": {
        "id": "48vWZghT6FTO"
      }
    },
    {
      "cell_type": "markdown",
      "source": [
        "Initialize training and model parameters\n"
      ],
      "metadata": {
        "id": "bCoH6U1NNkbA"
      }
    },
    {
      "cell_type": "code",
      "metadata": {
        "id": "q690og8mgw8f",
        "colab": {
          "base_uri": "https://localhost:8080/"
        },
        "outputId": "74976115-81ca-484c-ea70-e1839a0ed6c9"
      },
      "source": [
        "n_epochs = 10\n",
        "learning_rate = 0.0001\n",
        "\n",
        "embed_dim = 768\n",
        "nhead = 2\n",
        "nlayers = 2\n",
        "dropout = 0.1\n",
        "attn_dim = 100\n",
        "out_dim = 2\n",
        "tokens_per_review = 512\n",
        "\n",
        "device = torch.device('cuda' if torch.cuda.is_available() else 'cpu')\n",
        "model = TransformerModel(embed_dim, nhead, nlayers, dropout, attn_dim, out_dim, tokens_per_review).to(device)\n",
        "loss_function = nn.NLLLoss()\n",
        "optimizer = optim.Adam([param for param in model.parameters() if param.requires_grad == True], lr=learning_rate)\n",
        "lr_scheduler = torch.optim.lr_scheduler.ReduceLROnPlateau(optimizer, mode='min', patience=3, verbose=True)"
      ],
      "execution_count": null,
      "outputs": [
        {
          "output_type": "stream",
          "name": "stderr",
          "text": [
            "Some weights of the model checkpoint at bert-base-uncased were not used when initializing BertModel: ['cls.predictions.decoder.weight', 'cls.predictions.transform.dense.weight', 'cls.predictions.transform.dense.bias', 'cls.seq_relationship.weight', 'cls.predictions.transform.LayerNorm.bias', 'cls.seq_relationship.bias', 'cls.predictions.transform.LayerNorm.weight', 'cls.predictions.bias']\n",
            "- This IS expected if you are initializing BertModel from the checkpoint of a model trained on another task or with another architecture (e.g. initializing a BertForSequenceClassification model from a BertForPreTraining model).\n",
            "- This IS NOT expected if you are initializing BertModel from the checkpoint of a model that you expect to be exactly identical (initializing a BertForSequenceClassification model from a BertForSequenceClassification model).\n"
          ]
        }
      ]
    },
    {
      "cell_type": "code",
      "source": [
        "def train(model,data_loader):\n",
        "    '''\n",
        "    Training the model\n",
        "    '''\n",
        "    model.train()\n",
        "    losses = []\n",
        "    for batch in data_loader:\n",
        "        \n",
        "        batch_reviews = batch['input_ids'].to(device)\n",
        "        batch_labels = batch['label'].to(device)\n",
        "\n",
        "        optimizer.zero_grad()\n",
        "        model_output = model(batch_reviews)\n",
        "\n",
        "        loss = loss_function(model_output, batch_labels)\n",
        "        losses.append(loss.item())\n",
        "\n",
        "        loss.backward()\n",
        "        nn.utils.clip_grad_norm_(model.parameters(), 0.5)\n",
        "        optimizer.step()\n",
        "        \n",
        "    mean_loss = sum(losses)/len(losses)\n",
        "    return mean_loss"
      ],
      "metadata": {
        "id": "m5xuyXHg5VcS"
      },
      "execution_count": null,
      "outputs": []
    },
    {
      "cell_type": "code",
      "source": [
        "def evaluate(model, data_loader):\n",
        "    '''\n",
        "    Model evaluation\n",
        "    '''\n",
        "    model.eval()\n",
        "    actuals = []\n",
        "    predictions = []\n",
        "    losses = []\n",
        "    with torch.no_grad():\n",
        "         for batch in data_loader:\n",
        "         \n",
        "             batch_reviews = batch['input_ids'].to(device)\n",
        "             batch_labels = batch['label'].to(device)\n",
        "        \n",
        "             model_output = model(batch_reviews)\n",
        "\n",
        "             loss = loss_function(model_output, batch_labels)\n",
        "             losses.append(loss.item())\n",
        "\n",
        "             prediction = model_output.argmax(dim=1, keepdim=True)\n",
        "             actuals.extend(batch_labels)\n",
        "             predictions.extend(prediction)\n",
        "             \n",
        "    accuracy = accuracy_score([a.item() for a in actuals], [p.item() for p in predictions])\n",
        "    mean_loss = sum(losses)/len(losses)\n",
        "    return accuracy, mean_loss"
      ],
      "metadata": {
        "id": "2ahtcIdX5Xm2"
      },
      "execution_count": null,
      "outputs": []
    },
    {
      "cell_type": "code",
      "source": [
        "best_val_loss = float('inf')\n",
        "epoch_losses = []\n",
        "for epoch in range(n_epochs):\n",
        "    train_loss = train(model,train_loader)\n",
        "    val_acc, val_loss = evaluate(model, valid_loader)\n",
        "    print(\"epoch: %s, train_loss: %s, val_loss: %s, val_acc: %s\\n\" %(epoch, train_loss, val_loss, val_acc))\n",
        "              \n",
        "    epoch_losses.append(val_loss)\n",
        "    lr_scheduler.step(val_loss)\n",
        "        \n",
        "    if val_loss < best_val_loss:\n",
        "       best_val_loss = val_loss\n",
        "       torch.save(model.state_dict(), 'best.pt')\n",
        "\n",
        "utils.plot(epoch_losses)"
      ],
      "metadata": {
        "id": "j95x8WHjUGJl",
        "colab": {
          "base_uri": "https://localhost:8080/",
          "height": 1000
        },
        "outputId": "e70cf401-e3bb-46be-9be2-7f1d63b7bbc8"
      },
      "execution_count": null,
      "outputs": [
        {
          "output_type": "stream",
          "name": "stdout",
          "text": [
            "epoch: 0, train_loss: 1.3709002576036398, val_loss: 3.0129420394162256, val_acc: 0.5132\n",
            "\n",
            "epoch: 1, train_loss: 0.8454108759926275, val_loss: 0.7127910617628717, val_acc: 0.7564\n",
            "\n",
            "epoch: 2, train_loss: 0.6430488767293481, val_loss: 0.991583114733571, val_acc: 0.7656\n",
            "\n",
            "epoch: 3, train_loss: 0.5356801554565341, val_loss: 0.957772825184467, val_acc: 0.8364\n",
            "\n",
            "epoch: 4, train_loss: 0.418039837660792, val_loss: 1.9707202724925403, val_acc: 0.8096\n",
            "\n",
            "epoch: 5, train_loss: 0.27767638891858754, val_loss: 1.8990846204904301, val_acc: 0.8246\n",
            "\n",
            "Epoch 00006: reducing learning rate of group 0 to 1.0000e-05.\n",
            "epoch: 6, train_loss: 0.08870535925739434, val_loss: 2.252978941589806, val_acc: 0.8288\n",
            "\n",
            "epoch: 7, train_loss: 0.04606231891327086, val_loss: 2.2068600161113254, val_acc: 0.8342\n",
            "\n",
            "epoch: 8, train_loss: 0.025389896042923896, val_loss: 2.3461112767492276, val_acc: 0.8406\n",
            "\n",
            "epoch: 9, train_loss: 0.013773635128694775, val_loss: 2.312630667903853, val_acc: 0.84\n",
            "\n",
            "Epoch 00010: reducing learning rate of group 0 to 1.0000e-06.\n",
            "epoch: 10, train_loss: 0.009613279766082622, val_loss: 2.3440477621796867, val_acc: 0.8418\n",
            "\n",
            "epoch: 11, train_loss: 0.010128620506027817, val_loss: 2.37719381828685, val_acc: 0.8408\n",
            "\n",
            "epoch: 12, train_loss: 0.007309523024405215, val_loss: 2.3887272939844815, val_acc: 0.84\n",
            "\n",
            "epoch: 13, train_loss: 0.008455329609697165, val_loss: 2.379384073872185, val_acc: 0.8388\n",
            "\n",
            "Epoch 00014: reducing learning rate of group 0 to 1.0000e-07.\n",
            "epoch: 14, train_loss: 0.006682008239166782, val_loss: 2.3814424840071173, val_acc: 0.8412\n",
            "\n",
            "epoch: 15, train_loss: 0.006418316394487822, val_loss: 2.3805371100755526, val_acc: 0.8416\n",
            "\n",
            "epoch: 16, train_loss: 0.006136918536337934, val_loss: 2.383200185482167, val_acc: 0.8418\n",
            "\n",
            "epoch: 17, train_loss: 0.007078406700402797, val_loss: 2.382290024200263, val_acc: 0.842\n",
            "\n",
            "Epoch 00018: reducing learning rate of group 0 to 1.0000e-08.\n",
            "epoch: 18, train_loss: 0.006174561470395027, val_loss: 2.382127165526618, val_acc: 0.8418\n",
            "\n",
            "epoch: 19, train_loss: 0.006135915687727261, val_loss: 2.381746932859548, val_acc: 0.8416\n",
            "\n"
          ]
        },
        {
          "output_type": "display_data",
          "data": {
            "text/plain": [
              "<Figure size 432x288 with 1 Axes>"
            ],
            "image/png": "[encoded data removed]"
          },
          "metadata": {
            "needs_background": "light"
          }
        }
      ]
    },
    {
      "cell_type": "markdown",
      "source": [
        "# Testing"
      ],
      "metadata": {
        "id": "oVWOXp_T6UIP"
      }
    },
    {
      "cell_type": "code",
      "metadata": {
        "id": "oWRMmOv8g6pj",
        "colab": {
          "base_uri": "https://localhost:8080/",
          "height": 70
        },
        "outputId": "cc31af66-8e05-4f5e-e02e-db960dd13a29"
      },
      "source": [
        "#test the best model\n",
        "model.load_state_dict(torch.load(\"best.pt\"))\n",
        "model.eval()\n",
        "test_acc, test_loss = evaluate(model,test_loader)\n",
        "print('The test accuracy is %s and test loss is %s' %(test_acc, test_loss))\n",
        "\n",
        "'''\n",
        "actuals, predictions = evaluate(model, test_iterator)\n",
        "print('Confusion matrix:')\n",
        "print(confusion_matrix(actuals, predictions))\n",
        "print('F1 score: %f' % f1_score(actuals, predictions, average='micro'))\n",
        "print('Accuracy score: %f' % accuracy_score(actuals, predictions))\n",
        "'''"
      ],
      "execution_count": null,
      "outputs": [
        {
          "output_type": "stream",
          "name": "stdout",
          "text": [
            "The test accuracy is 0.7546 and test loss is 0.6989458008324898\n"
          ]
        },
        {
          "output_type": "execute_result",
          "data": {
            "text/plain": [
              "\"\\nactuals, predictions = evaluate(model, test_iterator)\\nprint('Confusion matrix:')\\nprint(confusion_matrix(actuals, predictions))\\nprint('F1 score: %f' % f1_score(actuals, predictions, average='micro'))\\nprint('Accuracy score: %f' % accuracy_score(actuals, predictions))\\n\""
            ],
            "application/vnd.google.colaboratory.intrinsic+json": {
              "type": "string"
            }
          },
          "metadata": {},
          "execution_count": 29
        }
      ]
    }
  ]
}